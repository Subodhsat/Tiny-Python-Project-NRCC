{
 "cells": [
  {
   "cell_type": "markdown",
   "metadata": {},
   "source": [
    "## Word Count Converter\n",
    "\n",
    "## Counting words in the text given by the user\n",
    "\n",
    "\n"
   ]
  },
  {
   "cell_type": "code",
   "execution_count": 1,
   "metadata": {},
   "outputs": [
    {
     "name": "stdout",
     "output_type": "stream",
     "text": [
      " YOUR TEXT IS: \n",
      " \n",
      "who are you?  \n",
      "\n",
      "The number of words given in the text is: 3\n"
     ]
    }
   ],
   "source": [
    "#CODE\n",
    "\n",
    "#Function to convert the entire text to divison text\n",
    "def word_count(text):\n",
    "    words = text.split()\n",
    "    return len(words)\n",
    "\n",
    "#Inout text in the program\n",
    "text_by_user=input(\"Enter the any given phrase\")\n",
    "count = word_count(text_by_user)\n",
    "print(\" YOUR TEXT IS: \\n \")\n",
    "print(f\"{text_by_user}  \\n\")\n",
    "\n",
    "#Display word count\n",
    "print(f\"The number of words given in the text is: {count}\")\n"
   ]
  },
  {
   "cell_type": "markdown",
   "metadata": {},
   "source": [
    "## Word Guessing Programming\n",
    "## Guess the number of any two digit"
   ]
  },
  {
   "cell_type": "code",
   "execution_count": 2,
   "metadata": {},
   "outputs": [
    {
     "name": "stdout",
     "output_type": "stream",
     "text": [
      "You have 3 trie to guess a correct number\n",
      "Your guess is not correct\n",
      "2 trials are left\n",
      "\n",
      "Your guess is not correct\n",
      "1 trials are left\n",
      "\n",
      "Your guess is not correct\n",
      "0 trials are left\n",
      "\n",
      "You could not guess correctly\n",
      " The number generated is 99\n"
     ]
    }
   ],
   "source": [
    "import random\n",
    "import sys\n",
    "\n",
    "#Generate a random 2 digit number\n",
    "random_number= random.randint(10,99)\n",
    "\n",
    "print(\"You have 3 trie to guess a correct number\")\n",
    "def number():\n",
    "    while True:\n",
    "        number_input = input(\"Please enter a two digit number: \")\n",
    "        \n",
    "        # Check if the input is a digit and has exactly 2 characters\n",
    "        if number_input.isdigit() and len(number_input) == 2:    #isdigit() checks whether input is number\n",
    "            number = int(number_input)\n",
    "            if 10 <= number <= 99:\n",
    "                return number\n",
    "            else:\n",
    "                print(\"The number is not a two-digit number. Please try again.\")\n",
    "        else:\n",
    "            print(\"Invalid input. Please enter a valid two-digit number.\")\n",
    "\n",
    "\n",
    "i=1\n",
    "j=3\n",
    "while i<=j:\n",
    "    numbers = number()\n",
    "    if numbers == random_number:\n",
    "        print(\"Your guess is correct\")\n",
    "        quit()\n",
    "    else:\n",
    "        print(\"Your guess is not correct\")\n",
    "        print(f\"{j-i} trials are left\\n\")\n",
    "        if i==3:\n",
    "            print(\"You could not guess correctly\")\n",
    "            print(f\" The number generated is {random_number}\")\n",
    "        i=i+1    "
   ]
  }
 ],
 "metadata": {
  "kernelspec": {
   "display_name": "Python 3",
   "language": "python",
   "name": "python3"
  },
  "language_info": {
   "codemirror_mode": {
    "name": "ipython",
    "version": 3
   },
   "file_extension": ".py",
   "mimetype": "text/x-python",
   "name": "python",
   "nbconvert_exporter": "python",
   "pygments_lexer": "ipython3",
   "version": "3.11.9"
  }
 },
 "nbformat": 4,
 "nbformat_minor": 2
}
